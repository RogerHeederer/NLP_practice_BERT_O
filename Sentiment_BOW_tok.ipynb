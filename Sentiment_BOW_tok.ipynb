{
  "nbformat": 4,
  "nbformat_minor": 0,
  "metadata": {
    "colab": {
      "name": "Sentiment_BOW_tok.ipynb",
      "provenance": [],
      "authorship_tag": "ABX9TyO3ASYISOOibMiHkZfAjoIb",
      "include_colab_link": true
    },
    "kernelspec": {
      "name": "python3",
      "display_name": "Python 3"
    },
    "accelerator": "GPU"
  },
  "cells": [
    {
      "cell_type": "markdown",
      "metadata": {
        "id": "view-in-github",
        "colab_type": "text"
      },
      "source": [
        "<a href=\"https://colab.research.google.com/github/RogerHeederer/NLP_practice_BERT_O/blob/master/Sentiment_BOW_tok.ipynb\" target=\"_parent\"><img src=\"https://colab.research.google.com/assets/colab-badge.svg\" alt=\"Open In Colab\"/></a>"
      ]
    },
    {
      "cell_type": "markdown",
      "metadata": {
        "id": "qGZ21hNeQxKq",
        "colab_type": "text"
      },
      "source": [
        "본 학습의 레퍼런스는 KEPCO 자연어 처리 교육 / 정유채 교수님 자료이며, 개별 학습을 위한 용도임을 밝힙니다."
      ]
    },
    {
      "cell_type": "code",
      "metadata": {
        "id": "oJ4_elK2QjMg",
        "colab_type": "code",
        "colab": {
          "base_uri": "https://localhost:8080/",
          "height": 127
        },
        "outputId": "87719d94-c242-45e7-91f4-78b9f8cdfd27"
      },
      "source": [
        "from google.colab import drive\n",
        "drive.mount('/content/gdrive')"
      ],
      "execution_count": 1,
      "outputs": [
        {
          "output_type": "stream",
          "text": [
            "Go to this URL in a browser: https://accounts.google.com/o/oauth2/auth?client_id=947318989803-6bn6qk8qdgf4n4g3pfee6491hc0brc4i.apps.googleusercontent.com&redirect_uri=urn%3aietf%3awg%3aoauth%3a2.0%3aoob&scope=email%20https%3a%2f%2fwww.googleapis.com%2fauth%2fdocs.test%20https%3a%2f%2fwww.googleapis.com%2fauth%2fdrive%20https%3a%2f%2fwww.googleapis.com%2fauth%2fdrive.photos.readonly%20https%3a%2f%2fwww.googleapis.com%2fauth%2fpeopleapi.readonly&response_type=code\n",
            "\n",
            "Enter your authorization code:\n",
            "··········\n",
            "Mounted at /content/gdrive\n"
          ],
          "name": "stdout"
        }
      ]
    },
    {
      "cell_type": "markdown",
      "metadata": {
        "id": "rlepaKMISdxO",
        "colab_type": "text"
      },
      "source": [
        "##BOW 이용해서 긍정 부정 분류하기"
      ]
    },
    {
      "cell_type": "code",
      "metadata": {
        "id": "ftzQ5lCCRFiX",
        "colab_type": "code",
        "colab": {}
      },
      "source": [
        "import codecs\n",
        "import pandas as pd"
      ],
      "execution_count": 2,
      "outputs": []
    },
    {
      "cell_type": "code",
      "metadata": {
        "id": "jQ53iwWERSLZ",
        "colab_type": "code",
        "colab": {}
      },
      "source": [
        "def read_data(filename):\n",
        "    with codecs.open(filename, 'r', 'utf-8') as f:\n",
        "        data = [line.split('\\t') for line in f.read().splitlines()]\n",
        "        data = data[1:]\n",
        "    return data\n"
      ],
      "execution_count": 3,
      "outputs": []
    },
    {
      "cell_type": "code",
      "metadata": {
        "id": "5nJFTxzoRjmQ",
        "colab_type": "code",
        "colab": {}
      },
      "source": [
        "train_data = read_data('/content/gdrive/My Drive/RogerHeederer/NLP_practice_BERT_O/nsm/small_ratings_train_tok.txt')\n",
        "test_data = read_data('/content/gdrive/My Drive/RogerHeederer/NLP_practice_BERT_O/nsm/small_ratings_test_tok.txt')"
      ],
      "execution_count": 4,
      "outputs": []
    },
    {
      "cell_type": "code",
      "metadata": {
        "id": "xIFO9KKIR_MI",
        "colab_type": "code",
        "colab": {
          "base_uri": "https://localhost:8080/",
          "height": 419
        },
        "outputId": "1497811b-be3f-464b-c990-2d99bc537a7b"
      },
      "source": [
        "pd.DataFrame(train_data)"
      ],
      "execution_count": 5,
      "outputs": [
        {
          "output_type": "execute_result",
          "data": {
            "text/html": [
              "<div>\n",
              "<style scoped>\n",
              "    .dataframe tbody tr th:only-of-type {\n",
              "        vertical-align: middle;\n",
              "    }\n",
              "\n",
              "    .dataframe tbody tr th {\n",
              "        vertical-align: top;\n",
              "    }\n",
              "\n",
              "    .dataframe thead th {\n",
              "        text-align: right;\n",
              "    }\n",
              "</style>\n",
              "<table border=\"1\" class=\"dataframe\">\n",
              "  <thead>\n",
              "    <tr style=\"text-align: right;\">\n",
              "      <th></th>\n",
              "      <th>0</th>\n",
              "      <th>1</th>\n",
              "      <th>2</th>\n",
              "    </tr>\n",
              "  </thead>\n",
              "  <tbody>\n",
              "    <tr>\n",
              "      <th>0</th>\n",
              "      <td>9976970</td>\n",
              "      <td>아 더빙 .. 진짜 짜증나네요 목소리</td>\n",
              "      <td>0</td>\n",
              "    </tr>\n",
              "    <tr>\n",
              "      <th>1</th>\n",
              "      <td>3819312</td>\n",
              "      <td>흠 ... 포스터 보고 초딩 영화 줄 .... 오버 연기 조차 가볍지 않구나</td>\n",
              "      <td>1</td>\n",
              "    </tr>\n",
              "    <tr>\n",
              "      <th>2</th>\n",
              "      <td>10265843</td>\n",
              "      <td>너 무재 밓었 다그 래서 보는것을 추천 한 다</td>\n",
              "      <td>0</td>\n",
              "    </tr>\n",
              "    <tr>\n",
              "      <th>3</th>\n",
              "      <td>9045019</td>\n",
              "      <td>교도소 이야기 구먼 .. 솔직히 재미 는 없다 .. 평점 조정</td>\n",
              "      <td>0</td>\n",
              "    </tr>\n",
              "    <tr>\n",
              "      <th>4</th>\n",
              "      <td>6483659</td>\n",
              "      <td>사이 몬페 그 의 익살스런 연기 가 돋보였던 영화 ! 스파이더맨 에서 늙어 보이기만...</td>\n",
              "      <td>1</td>\n",
              "    </tr>\n",
              "    <tr>\n",
              "      <th>...</th>\n",
              "      <td>...</td>\n",
              "      <td>...</td>\n",
              "      <td>...</td>\n",
              "    </tr>\n",
              "    <tr>\n",
              "      <th>9995</th>\n",
              "      <td>8665166</td>\n",
              "      <td>곰 티비 로 무료 로 봤기 때문 에 5 점주 려고 했는데 1 한국 공포영화 의 특징...</td>\n",
              "      <td>0</td>\n",
              "    </tr>\n",
              "    <tr>\n",
              "      <th>9996</th>\n",
              "      <td>8312675</td>\n",
              "      <td>이딴 걸 드라마 라고 썼냐 수습 할수 없으면 걍 친 자녀 아니면되 고 간단하네 얼굴...</td>\n",
              "      <td>0</td>\n",
              "    </tr>\n",
              "    <tr>\n",
              "      <th>9997</th>\n",
              "      <td>6386483</td>\n",
              "      <td>왠지 김연아 크면 에리 카 처럼 될것 같음 .</td>\n",
              "      <td>1</td>\n",
              "    </tr>\n",
              "    <tr>\n",
              "      <th>9998</th>\n",
              "      <td>4452600</td>\n",
              "      <td>솔직히 굿 ㅋㅋㅋㅋ 넘버 11 씨 는 살아남길 바랬는데 2 번 째 극장판 어서 나오길</td>\n",
              "      <td>1</td>\n",
              "    </tr>\n",
              "    <tr>\n",
              "      <th>9999</th>\n",
              "      <td>9832698</td>\n",
              "      <td>그냥 보다 나옴 노답 핵 노잼</td>\n",
              "      <td>0</td>\n",
              "    </tr>\n",
              "  </tbody>\n",
              "</table>\n",
              "<p>10000 rows × 3 columns</p>\n",
              "</div>"
            ],
            "text/plain": [
              "             0                                                  1  2\n",
              "0      9976970                               아 더빙 .. 진짜 짜증나네요 목소리  0\n",
              "1      3819312         흠 ... 포스터 보고 초딩 영화 줄 .... 오버 연기 조차 가볍지 않구나  1\n",
              "2     10265843                          너 무재 밓었 다그 래서 보는것을 추천 한 다  0\n",
              "3      9045019                 교도소 이야기 구먼 .. 솔직히 재미 는 없다 .. 평점 조정  0\n",
              "4      6483659  사이 몬페 그 의 익살스런 연기 가 돋보였던 영화 ! 스파이더맨 에서 늙어 보이기만...  1\n",
              "...        ...                                                ... ..\n",
              "9995   8665166  곰 티비 로 무료 로 봤기 때문 에 5 점주 려고 했는데 1 한국 공포영화 의 특징...  0\n",
              "9996   8312675  이딴 걸 드라마 라고 썼냐 수습 할수 없으면 걍 친 자녀 아니면되 고 간단하네 얼굴...  0\n",
              "9997   6386483                          왠지 김연아 크면 에리 카 처럼 될것 같음 .  1\n",
              "9998   4452600    솔직히 굿 ㅋㅋㅋㅋ 넘버 11 씨 는 살아남길 바랬는데 2 번 째 극장판 어서 나오길  1\n",
              "9999   9832698                                   그냥 보다 나옴 노답 핵 노잼  0\n",
              "\n",
              "[10000 rows x 3 columns]"
            ]
          },
          "metadata": {
            "tags": []
          },
          "execution_count": 5
        }
      ]
    },
    {
      "cell_type": "code",
      "metadata": {
        "id": "gXjNm9mOSKNh",
        "colab_type": "code",
        "colab": {
          "base_uri": "https://localhost:8080/",
          "height": 419
        },
        "outputId": "012be51e-7ff7-4b95-a8b7-8f174628c14f"
      },
      "source": [
        "pd.DataFrame(test_data)"
      ],
      "execution_count": 6,
      "outputs": [
        {
          "output_type": "execute_result",
          "data": {
            "text/html": [
              "<div>\n",
              "<style scoped>\n",
              "    .dataframe tbody tr th:only-of-type {\n",
              "        vertical-align: middle;\n",
              "    }\n",
              "\n",
              "    .dataframe tbody tr th {\n",
              "        vertical-align: top;\n",
              "    }\n",
              "\n",
              "    .dataframe thead th {\n",
              "        text-align: right;\n",
              "    }\n",
              "</style>\n",
              "<table border=\"1\" class=\"dataframe\">\n",
              "  <thead>\n",
              "    <tr style=\"text-align: right;\">\n",
              "      <th></th>\n",
              "      <th>0</th>\n",
              "      <th>1</th>\n",
              "      <th>2</th>\n",
              "    </tr>\n",
              "  </thead>\n",
              "  <tbody>\n",
              "    <tr>\n",
              "      <th>0</th>\n",
              "      <td>7898805</td>\n",
              "      <td>음악 이 주가 된 , 최고 의 음악 영화</td>\n",
              "      <td>1</td>\n",
              "    </tr>\n",
              "    <tr>\n",
              "      <th>1</th>\n",
              "      <td>7462111</td>\n",
              "      <td>괜찮네요 오랜 만 포켓몬스터 잼밌 어 요</td>\n",
              "      <td>1</td>\n",
              "    </tr>\n",
              "    <tr>\n",
              "      <th>2</th>\n",
              "      <td>6900881</td>\n",
              "      <td>청춘 은 아름답다 그 아름다 움 은 이성 을 흔들어 놓는다 . 찰나 의 아름다 움 ...</td>\n",
              "      <td>1</td>\n",
              "    </tr>\n",
              "    <tr>\n",
              "      <th>3</th>\n",
              "      <td>9629375</td>\n",
              "      <td>눈 에 보이는 반전 이었지만 영화 의 흡인 력 은 사라지지 않았다 .</td>\n",
              "      <td>1</td>\n",
              "    </tr>\n",
              "    <tr>\n",
              "      <th>4</th>\n",
              "      <td>2968565</td>\n",
              "      <td>최고 !!!!!!!!!!!!!!!!</td>\n",
              "      <td>1</td>\n",
              "    </tr>\n",
              "    <tr>\n",
              "      <th>...</th>\n",
              "      <td>...</td>\n",
              "      <td>...</td>\n",
              "      <td>...</td>\n",
              "    </tr>\n",
              "    <tr>\n",
              "      <th>95</th>\n",
              "      <td>142684</td>\n",
              "      <td>역시 영화 를 볼 때 도 도덕성 을 버려 둘 수 는 없네요</td>\n",
              "      <td>0</td>\n",
              "    </tr>\n",
              "    <tr>\n",
              "      <th>96</th>\n",
              "      <td>9644499</td>\n",
              "      <td>이 게 뭐 가 다 들 재밌다는거지 ㅋㅋㅋ 마지막 반전 이 가장 최악 이었는데 ...</td>\n",
              "      <td>0</td>\n",
              "    </tr>\n",
              "    <tr>\n",
              "      <th>97</th>\n",
              "      <td>1678402</td>\n",
              "      <td>두 주인공 의 관계 와 로맨스 는 어색하고 , 요술 인지 마법 인지 .. 뭘 하는 건지</td>\n",
              "      <td>0</td>\n",
              "    </tr>\n",
              "    <tr>\n",
              "      <th>98</th>\n",
              "      <td>366896</td>\n",
              "      <td>왜 헤라클레스 의 인물 묘사 를 저따위 로 했을까 ?</td>\n",
              "      <td>0</td>\n",
              "    </tr>\n",
              "    <tr>\n",
              "      <th>99</th>\n",
              "      <td>7415980</td>\n",
              "      <td>신날 것 없는 애니 .</td>\n",
              "      <td>0</td>\n",
              "    </tr>\n",
              "  </tbody>\n",
              "</table>\n",
              "<p>100 rows × 3 columns</p>\n",
              "</div>"
            ],
            "text/plain": [
              "          0                                                  1  2\n",
              "0   7898805                             음악 이 주가 된 , 최고 의 음악 영화  1\n",
              "1   7462111                             괜찮네요 오랜 만 포켓몬스터 잼밌 어 요  1\n",
              "2   6900881  청춘 은 아름답다 그 아름다 움 은 이성 을 흔들어 놓는다 . 찰나 의 아름다 움 ...  1\n",
              "3   9629375             눈 에 보이는 반전 이었지만 영화 의 흡인 력 은 사라지지 않았다 .  1\n",
              "4   2968565                                최고 !!!!!!!!!!!!!!!!  1\n",
              "..      ...                                                ... ..\n",
              "95   142684                   역시 영화 를 볼 때 도 도덕성 을 버려 둘 수 는 없네요  0\n",
              "96  9644499     이 게 뭐 가 다 들 재밌다는거지 ㅋㅋㅋ 마지막 반전 이 가장 최악 이었는데 ...  0\n",
              "97  1678402   두 주인공 의 관계 와 로맨스 는 어색하고 , 요술 인지 마법 인지 .. 뭘 하는 건지  0\n",
              "98   366896                      왜 헤라클레스 의 인물 묘사 를 저따위 로 했을까 ?  0\n",
              "99  7415980                                       신날 것 없는 애니 .  0\n",
              "\n",
              "[100 rows x 3 columns]"
            ]
          },
          "metadata": {
            "tags": []
          },
          "execution_count": 6
        }
      ]
    },
    {
      "cell_type": "code",
      "metadata": {
        "id": "l-1LCxEcStzx",
        "colab_type": "code",
        "colab": {}
      },
      "source": [
        "#훈련 데이터\n",
        "train_docs_X = [col[1] for col in train_data] # 첫번째 열 값들 빼오기(리뷰 텍스트)\n",
        "train_Y = [col[2] for col in train_data] # 두번째 열 값들 빼오기 (긍정,부정 레이블)"
      ],
      "execution_count": 7,
      "outputs": []
    },
    {
      "cell_type": "code",
      "metadata": {
        "id": "hvNeouqKTLC3",
        "colab_type": "code",
        "colab": {
          "base_uri": "https://localhost:8080/",
          "height": 35
        },
        "outputId": "a8864be3-a40d-46ce-8c3b-79f5dcb537d5"
      },
      "source": [
        "train_docs_X[1], train_Y[1] #리뷰 텍스트 및 평가"
      ],
      "execution_count": 8,
      "outputs": [
        {
          "output_type": "execute_result",
          "data": {
            "text/plain": [
              "('흠 ... 포스터 보고 초딩 영화 줄 .... 오버 연기 조차 가볍지 않구나', '1')"
            ]
          },
          "metadata": {
            "tags": []
          },
          "execution_count": 8
        }
      ]
    },
    {
      "cell_type": "code",
      "metadata": {
        "id": "FBQQpL6DTNcY",
        "colab_type": "code",
        "colab": {}
      },
      "source": [
        "#테스트 데이터\n",
        "test_docs_X = [col[1] for col in test_data] # 첫번째 열 값들 빼오기(리뷰 텍스트)\n",
        "test_Y = [col[2] for col in test_data] # 두번째 열 값들 빼오기 (긍정,부정 레이블)"
      ],
      "execution_count": 9,
      "outputs": []
    },
    {
      "cell_type": "code",
      "metadata": {
        "id": "VZxPclhnU4JH",
        "colab_type": "code",
        "colab": {
          "base_uri": "https://localhost:8080/",
          "height": 35
        },
        "outputId": "cb83aec2-2b47-49ac-d08e-e1ba15339435"
      },
      "source": [
        "test_docs_X[1], test_Y[1]"
      ],
      "execution_count": 10,
      "outputs": [
        {
          "output_type": "execute_result",
          "data": {
            "text/plain": [
              "('괜찮네요 오랜 만 포켓몬스터 잼밌 어 요', '1')"
            ]
          },
          "metadata": {
            "tags": []
          },
          "execution_count": 10
        }
      ]
    },
    {
      "cell_type": "markdown",
      "metadata": {
        "id": "P8y39Z3SVfwX",
        "colab_type": "text"
      },
      "source": [
        "#### CountVectorizer 변환\n",
        "데이터 : ['I am happy', 'I am sad']<br>\n",
        "단어 모음 : ['I', 'am', 'happy', 'sad']<br>\n",
        "변환 결과 : [[1, 1, 1, 0], [1, 1, 0, 1]]<br>\n",
        "\n",
        "## 단어 갯수 카운팅해서 고정된 크기의 벡터를 만들어줌"
      ]
    },
    {
      "cell_type": "code",
      "metadata": {
        "id": "eYBlB8-kU9jA",
        "colab_type": "code",
        "colab": {}
      },
      "source": [
        "from sklearn.feature_extraction.text import CountVectorizer\n",
        "vec = CountVectorizer(max_features = 1000).fit(train_docs_X)"
      ],
      "execution_count": 11,
      "outputs": []
    },
    {
      "cell_type": "code",
      "metadata": {
        "id": "_W0f2fpTYMpA",
        "colab_type": "code",
        "colab": {
          "base_uri": "https://localhost:8080/",
          "height": 125
        },
        "outputId": "765ce94c-74cf-4dd3-c048-21a3c2bbd7cd"
      },
      "source": [
        "vec"
      ],
      "execution_count": 12,
      "outputs": [
        {
          "output_type": "execute_result",
          "data": {
            "text/plain": [
              "CountVectorizer(analyzer='word', binary=False, decode_error='strict',\n",
              "                dtype=<class 'numpy.int64'>, encoding='utf-8', input='content',\n",
              "                lowercase=True, max_df=1.0, max_features=1000, min_df=1,\n",
              "                ngram_range=(1, 1), preprocessor=None, stop_words=None,\n",
              "                strip_accents=None, token_pattern='(?u)\\\\b\\\\w\\\\w+\\\\b',\n",
              "                tokenizer=None, vocabulary=None)"
            ]
          },
          "metadata": {
            "tags": []
          },
          "execution_count": 12
        }
      ]
    },
    {
      "cell_type": "code",
      "metadata": {
        "id": "BVpfVRl2YNTn",
        "colab_type": "code",
        "colab": {}
      },
      "source": [
        "train_X = vec.transform(train_docs_X).toarray()\n",
        "test_X = vec.transform(test_docs_X).toarray()"
      ],
      "execution_count": 13,
      "outputs": []
    },
    {
      "cell_type": "code",
      "metadata": {
        "id": "boU9R4v7Yubi",
        "colab_type": "code",
        "colab": {
          "base_uri": "https://localhost:8080/",
          "height": 53
        },
        "outputId": "11bff130-80e7-4a38-fe15-2c787f07fbbc"
      },
      "source": [
        "print(type(train_docs_X))\n",
        "len(train_docs_X)"
      ],
      "execution_count": 14,
      "outputs": [
        {
          "output_type": "stream",
          "text": [
            "<class 'list'>\n"
          ],
          "name": "stdout"
        },
        {
          "output_type": "execute_result",
          "data": {
            "text/plain": [
              "10000"
            ]
          },
          "metadata": {
            "tags": []
          },
          "execution_count": 14
        }
      ]
    },
    {
      "cell_type": "code",
      "metadata": {
        "id": "hYXUD7YbYW7d",
        "colab_type": "code",
        "colab": {
          "base_uri": "https://localhost:8080/",
          "height": 53
        },
        "outputId": "9e5da31f-2887-4a21-b5c1-9383ff90b92a"
      },
      "source": [
        "print(type(train_X))\n",
        "train_X.shape"
      ],
      "execution_count": 15,
      "outputs": [
        {
          "output_type": "stream",
          "text": [
            "<class 'numpy.ndarray'>\n"
          ],
          "name": "stdout"
        },
        {
          "output_type": "execute_result",
          "data": {
            "text/plain": [
              "(10000, 1000)"
            ]
          },
          "metadata": {
            "tags": []
          },
          "execution_count": 15
        }
      ]
    },
    {
      "cell_type": "code",
      "metadata": {
        "id": "Hi4EK0sKYZq_",
        "colab_type": "code",
        "colab": {
          "base_uri": "https://localhost:8080/",
          "height": 53
        },
        "outputId": "a2b16e3d-092b-4a23-aed3-5dddee4cf90a"
      },
      "source": [
        "print(type(train_Y))\n",
        "len(train_Y)"
      ],
      "execution_count": 16,
      "outputs": [
        {
          "output_type": "stream",
          "text": [
            "<class 'list'>\n"
          ],
          "name": "stdout"
        },
        {
          "output_type": "execute_result",
          "data": {
            "text/plain": [
              "10000"
            ]
          },
          "metadata": {
            "tags": []
          },
          "execution_count": 16
        }
      ]
    },
    {
      "cell_type": "code",
      "metadata": {
        "id": "JStvQn0DaoY_",
        "colab_type": "code",
        "colab": {
          "base_uri": "https://localhost:8080/",
          "height": 143
        },
        "outputId": "a5bba326-db33-4b61-f06d-38f4f07457c2"
      },
      "source": [
        "train_X[1:10]"
      ],
      "execution_count": 17,
      "outputs": [
        {
          "output_type": "execute_result",
          "data": {
            "text/plain": [
              "array([[0, 0, 0, ..., 0, 0, 0],\n",
              "       [0, 0, 0, ..., 0, 0, 0],\n",
              "       [0, 0, 0, ..., 0, 0, 0],\n",
              "       ...,\n",
              "       [0, 0, 0, ..., 0, 0, 0],\n",
              "       [0, 0, 0, ..., 0, 0, 0],\n",
              "       [0, 0, 0, ..., 0, 0, 0]])"
            ]
          },
          "metadata": {
            "tags": []
          },
          "execution_count": 17
        }
      ]
    },
    {
      "cell_type": "code",
      "metadata": {
        "id": "MYTSz5SgatR9",
        "colab_type": "code",
        "colab": {
          "base_uri": "https://localhost:8080/",
          "height": 35
        },
        "outputId": "af4e9617-31ef-423c-cc25-c72b81e38a55"
      },
      "source": [
        "train_Y[1:10]"
      ],
      "execution_count": 18,
      "outputs": [
        {
          "output_type": "execute_result",
          "data": {
            "text/plain": [
              "['1', '0', '0', '1', '0', '0', '0', '1', '1']"
            ]
          },
          "metadata": {
            "tags": []
          },
          "execution_count": 18
        }
      ]
    },
    {
      "cell_type": "code",
      "metadata": {
        "id": "OWmGtQ6KZe0u",
        "colab_type": "code",
        "colab": {
          "base_uri": "https://localhost:8080/",
          "height": 53
        },
        "outputId": "0431fba1-b48e-49f3-ade1-5ffdfcc90333"
      },
      "source": [
        "%%time\n",
        "from sklearn.naive_bayes import GaussianNB\n",
        "gnb = GaussianNB()\n",
        "\n",
        "gnb.fit(train_X, train_Y)"
      ],
      "execution_count": 19,
      "outputs": [
        {
          "output_type": "stream",
          "text": [
            "CPU times: user 173 ms, sys: 18.4 ms, total: 192 ms\n",
            "Wall time: 222 ms\n"
          ],
          "name": "stdout"
        }
      ]
    },
    {
      "cell_type": "code",
      "metadata": {
        "id": "sVLUz5SLasf-",
        "colab_type": "code",
        "colab": {
          "base_uri": "https://localhost:8080/",
          "height": 53
        },
        "outputId": "8d0ce623-3412-4bad-ef7f-7016bdb2c177"
      },
      "source": [
        "print(\"Accuracy on training set: {:.3f}\".format(gnb.score(train_X, train_Y)))\n",
        "print(\"Accuracy on test set: {:.3f}\".format(gnb.score(test_X, test_Y)))"
      ],
      "execution_count": 20,
      "outputs": [
        {
          "output_type": "stream",
          "text": [
            "Accuracy on training set: 0.749\n",
            "Accuracy on test set: 0.720\n"
          ],
          "name": "stdout"
        }
      ]
    },
    {
      "cell_type": "code",
      "metadata": {
        "id": "q-n_EbjNa9Nn",
        "colab_type": "code",
        "colab": {}
      },
      "source": [
        "pos = [ [test_docs_X[i], test_Y[i], gnb.predict([test_X[i]]) ] for i in range(len(test_Y)) if test_Y[i] == '1' ]\n",
        "neg = [ [test_docs_X[i], test_Y[i], gnb.predict([test_X[i]]) ] for i in range(len(test_Y)) if test_Y[i] == '0' ]"
      ],
      "execution_count": 21,
      "outputs": []
    },
    {
      "cell_type": "code",
      "metadata": {
        "id": "WyDqG_b5cqdV",
        "colab_type": "code",
        "colab": {
          "base_uri": "https://localhost:8080/",
          "height": 305
        },
        "outputId": "15fba05c-2853-4cba-e063-d75fc9055e1b"
      },
      "source": [
        "print('긍정 리뷰 예측')\n",
        "for i in pos[0:5]:\n",
        "  print('입력 : ', i[0])\n",
        "  print('정답 : ', i[1])\n",
        "  print('출력 : ', i[2])"
      ],
      "execution_count": 22,
      "outputs": [
        {
          "output_type": "stream",
          "text": [
            "긍정 리뷰 예측\n",
            "입력 :  음악 이 주가 된 , 최고 의 음악 영화\n",
            "정답 :  1\n",
            "출력 :  ['1']\n",
            "입력 :  괜찮네요 오랜 만 포켓몬스터 잼밌 어 요\n",
            "정답 :  1\n",
            "출력 :  ['1']\n",
            "입력 :  청춘 은 아름답다 그 아름다 움 은 이성 을 흔들어 놓는다 . 찰나 의 아름다 움 을 잘 포착 한 섬세하고 아름다운 수채화 같은 퀴어 영화 이다 .\n",
            "정답 :  1\n",
            "출력 :  ['1']\n",
            "입력 :  눈 에 보이는 반전 이었지만 영화 의 흡인 력 은 사라지지 않았다 .\n",
            "정답 :  1\n",
            "출력 :  ['0']\n",
            "입력 :  최고 !!!!!!!!!!!!!!!!\n",
            "정답 :  1\n",
            "출력 :  ['1']\n"
          ],
          "name": "stdout"
        }
      ]
    },
    {
      "cell_type": "code",
      "metadata": {
        "id": "DHeB50j7dRm9",
        "colab_type": "code",
        "colab": {
          "base_uri": "https://localhost:8080/",
          "height": 323
        },
        "outputId": "565533c7-f141-4893-9e89-9793830bd044"
      },
      "source": [
        "print ('\\n부정 리뷰 예측')\n",
        "for i in neg[0:5]:\n",
        "    print ('입력', i[0])\n",
        "    print ('정답', i[1])\n",
        "    print ('출력', i[2])"
      ],
      "execution_count": 23,
      "outputs": [
        {
          "output_type": "stream",
          "text": [
            "\n",
            "부정 리뷰 예측\n",
            "입력 뭐 야 이 평점 들 은 .... 나쁘진 않지만 10 점 짜 리 는 더 더욱 아니잖아\n",
            "정답 0\n",
            "출력 ['1']\n",
            "입력 지루하지는 않은데 완전 막장 임 ... 돈 주고 보기 에는 ....\n",
            "정답 0\n",
            "출력 ['0']\n",
            "입력 3 D 만 아니었어도 별 다섯 개 줬을텐데 .. 왜 3 D 로 나와서 제 심기 를 불편하게 하죠 ??\n",
            "정답 0\n",
            "출력 ['0']\n",
            "입력 진정한 쓰레기\n",
            "정답 0\n",
            "출력 ['1']\n",
            "입력 한국 독립영화 의 한계 그렇게 아버지 가 된다와 비교 됨\n",
            "정답 0\n",
            "출력 ['1']\n"
          ],
          "name": "stdout"
        }
      ]
    },
    {
      "cell_type": "markdown",
      "metadata": {
        "id": "6Iu65xnffvZd",
        "colab_type": "text"
      },
      "source": [
        "##KNN 모델 이용"
      ]
    },
    {
      "cell_type": "code",
      "metadata": {
        "id": "czpYXcfTfg5V",
        "colab_type": "code",
        "colab": {
          "base_uri": "https://localhost:8080/",
          "height": 53
        },
        "outputId": "87394399-e538-4cf6-ee92-01588c17359f"
      },
      "source": [
        "%%time\n",
        "from sklearn.neighbors import KNeighborsClassifier\n",
        "neigh = KNeighborsClassifier(n_neighbors=9)\n",
        "neigh.fit(train_X, train_Y)"
      ],
      "execution_count": 24,
      "outputs": [
        {
          "output_type": "stream",
          "text": [
            "CPU times: user 1.31 s, sys: 4.12 ms, total: 1.31 s\n",
            "Wall time: 1.49 s\n"
          ],
          "name": "stdout"
        }
      ]
    },
    {
      "cell_type": "code",
      "metadata": {
        "id": "ir4YG5HrgC3d",
        "colab_type": "code",
        "colab": {
          "base_uri": "https://localhost:8080/",
          "height": 53
        },
        "outputId": "00c7ef88-7bf4-4aab-f58e-7a4bf91bdc94"
      },
      "source": [
        "print(\"Accuracy on training set: {:.3f}\".format(neigh.score(train_X, train_Y)))\n",
        "print(\"Accuracy on test set: {:.3f}\".format(neigh.score(test_X, test_Y)))"
      ],
      "execution_count": 25,
      "outputs": [
        {
          "output_type": "stream",
          "text": [
            "Accuracy on training set: 0.722\n",
            "Accuracy on test set: 0.690\n"
          ],
          "name": "stdout"
        }
      ]
    },
    {
      "cell_type": "code",
      "metadata": {
        "id": "zMbiToUegGG7",
        "colab_type": "code",
        "colab": {
          "base_uri": "https://localhost:8080/",
          "height": 611
        },
        "outputId": "72155340-bb71-47c6-a093-96195bba2f94"
      },
      "source": [
        "pos = [ [test_docs_X[i], test_Y[i], neigh.predict([test_X[i]]) ] for i in range(len(test_Y)) if test_Y[i] == '1' ]\n",
        "neg = [ [test_docs_X[i], test_Y[i], neigh.predict([test_X[i]]) ] for i in range(len(test_Y)) if test_Y[i] == '0' ]\n",
        "\n",
        "print ('Predicted as Positive:')\n",
        "for i in pos[:5]:\n",
        "    print ('입력', i[0])\n",
        "    print ('정답', i[1])\n",
        "    print ('출력', i[2])\n",
        "print ('\\nPredicted as Negative:')\n",
        "for i in neg[:5]:\n",
        "    print ('입력', i[0])\n",
        "    print ('정답', i[1])\n",
        "    print ('출력', i[2])\n"
      ],
      "execution_count": 26,
      "outputs": [
        {
          "output_type": "stream",
          "text": [
            "Predicted as Positive:\n",
            "입력 음악 이 주가 된 , 최고 의 음악 영화\n",
            "정답 1\n",
            "출력 ['1']\n",
            "입력 괜찮네요 오랜 만 포켓몬스터 잼밌 어 요\n",
            "정답 1\n",
            "출력 ['0']\n",
            "입력 청춘 은 아름답다 그 아름다 움 은 이성 을 흔들어 놓는다 . 찰나 의 아름다 움 을 잘 포착 한 섬세하고 아름다운 수채화 같은 퀴어 영화 이다 .\n",
            "정답 1\n",
            "출력 ['0']\n",
            "입력 눈 에 보이는 반전 이었지만 영화 의 흡인 력 은 사라지지 않았다 .\n",
            "정답 1\n",
            "출력 ['0']\n",
            "입력 최고 !!!!!!!!!!!!!!!!\n",
            "정답 1\n",
            "출력 ['1']\n",
            "\n",
            "Predicted as Negative:\n",
            "입력 뭐 야 이 평점 들 은 .... 나쁘진 않지만 10 점 짜 리 는 더 더욱 아니잖아\n",
            "정답 0\n",
            "출력 ['1']\n",
            "입력 지루하지는 않은데 완전 막장 임 ... 돈 주고 보기 에는 ....\n",
            "정답 0\n",
            "출력 ['1']\n",
            "입력 3 D 만 아니었어도 별 다섯 개 줬을텐데 .. 왜 3 D 로 나와서 제 심기 를 불편하게 하죠 ??\n",
            "정답 0\n",
            "출력 ['0']\n",
            "입력 진정한 쓰레기\n",
            "정답 0\n",
            "출력 ['0']\n",
            "입력 한국 독립영화 의 한계 그렇게 아버지 가 된다와 비교 됨\n",
            "정답 0\n",
            "출력 ['0']\n"
          ],
          "name": "stdout"
        }
      ]
    },
    {
      "cell_type": "code",
      "metadata": {
        "id": "sgeV5dAKiaol",
        "colab_type": "code",
        "colab": {}
      },
      "source": [
        ""
      ],
      "execution_count": null,
      "outputs": []
    }
  ]
}